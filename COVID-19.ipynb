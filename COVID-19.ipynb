{
 "cells": [
  {
   "cell_type": "code",
   "execution_count": 2,
   "metadata": {},
   "outputs": [],
   "source": [
    "import pandas as pd\n",
    "import numpy as np\n",
    "import matplotlib.pyplot as plt\n",
    "import math\n",
    "import time\n",
    "import control\n",
    "import csv\n",
    "from IPython.display import clear_output\n",
    "from scipy.integrate import odeint, solve_ivp\n",
    "from casadi import *"
   ]
  },
  {
   "cell_type": "code",
   "execution_count": 3,
   "metadata": {},
   "outputs": [],
   "source": [
    "#Contact data\n",
    "with open(\"./contact.csv\", 'r') as f:\n",
    "    reader = csv.reader(f)\n",
    "    data = list(reader)\n",
    "C = np.array(data, dtype=float) \n",
    "\n",
    "#Pandemic parameters\n",
    "lbd = np.array([0.05]*6)\n",
    "gamr = np.array([0.7657411,0.7842402,0.8012127,0.9018488,0.2802379,0.5864928])\n",
    "gamd = np.array([0.0015683025,0.004833996,0.09288585,0.09685946,0.17079121,0.56594825])\n",
    " \n",
    "#Population data\n",
    "N = np.array([1058304,915796,983789,384803,203035,99516]) \n",
    "n = len(N)\n",
    "# Initial condition \n",
    "I0 = 0.001*N\n",
    "S = N-I0\n",
    "I = I0\n",
    "R = np.array([0]*n)\n",
    "D = np.array([0]*n)\n",
    "# Maximal number of vaccination per day\n",
    "umax=55191\n",
    "\n",
    "# Labels and age ranges\n",
    "labels = ['Susceptibles', 'Infected', 'Recovered', 'Deceased']\n",
    "ranges = ['[0,25)', '[25,45)', '[45,65)', '[65,75)', '[75,85)', '85+']\n"
   ]
  },
  {
   "cell_type": "code",
   "execution_count": null,
   "metadata": {},
   "outputs": [],
   "source": []
  }
 ],
 "metadata": {
  "kernelspec": {
   "display_name": "Python 3",
   "language": "python",
   "name": "python3"
  },
  "language_info": {
   "codemirror_mode": {
    "name": "ipython",
    "version": 3
   },
   "file_extension": ".py",
   "mimetype": "text/x-python",
   "name": "python",
   "nbconvert_exporter": "python",
   "pygments_lexer": "ipython3",
   "version": "3.10.12"
  },
  "orig_nbformat": 4
 },
 "nbformat": 4,
 "nbformat_minor": 2
}
